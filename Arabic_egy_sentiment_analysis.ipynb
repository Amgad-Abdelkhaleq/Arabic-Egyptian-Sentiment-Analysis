{
  "nbformat": 4,
  "nbformat_minor": 0,
  "metadata": {
    "colab": {
      "name": "Arabic_egy_sentiment_analysis.ipynb",
      "provenance": [],
      "collapsed_sections": [],
      "authorship_tag": "ABX9TyMrViYCHh3WeWQVOuNFr800",
      "include_colab_link": true
    },
    "kernelspec": {
      "name": "python3",
      "display_name": "Python 3"
    }
  },
  "cells": [
    {
      "cell_type": "markdown",
      "metadata": {
        "id": "view-in-github",
        "colab_type": "text"
      },
      "source": [
        "<a href=\"https://colab.research.google.com/github/Amgad-Abdelkhaleq/Arabic-Egyptian-Sentiment-Analysis/blob/main/Arabic_egy_sentiment_analysis.ipynb\" target=\"_parent\"><img src=\"https://colab.research.google.com/assets/colab-badge.svg\" alt=\"Open In Colab\"/></a>"
      ]
    },
    {
      "cell_type": "code",
      "metadata": {
        "id": "yXQ2x3ljf3iG",
        "outputId": "608fa7ba-66e1-4002-ff03-afdb5bf8cc96",
        "colab": {
          "base_uri": "https://localhost:8080/",
          "height": 102
        }
      },
      "source": [
        "import os\n",
        "import re\n",
        "import nltk\n",
        "import pickle\n",
        "import numpy as np\n",
        "import pandas as pd\n",
        "from sklearn.model_selection import train_test_split\n",
        "from sklearn.metrics import accuracy_score\n",
        "from keras.preprocessing.text import Tokenizer\n",
        "from keras.preprocessing.sequence import pad_sequences\n",
        "from keras.models import Sequential\n",
        "from keras import layers\n",
        "from keras.backend import clear_session\n",
        "from keras.models import load_model\n",
        "nltk.download('punkt')\n",
        "nltk.download('wordnet')"
      ],
      "execution_count": null,
      "outputs": [
        {
          "output_type": "stream",
          "text": [
            "[nltk_data] Downloading package punkt to /root/nltk_data...\n",
            "[nltk_data]   Package punkt is already up-to-date!\n",
            "[nltk_data] Downloading package wordnet to /root/nltk_data...\n",
            "[nltk_data]   Package wordnet is already up-to-date!\n"
          ],
          "name": "stdout"
        },
        {
          "output_type": "execute_result",
          "data": {
            "text/plain": [
              "True"
            ]
          },
          "metadata": {
            "tags": []
          },
          "execution_count": 51
        }
      ]
    },
    {
      "cell_type": "code",
      "metadata": {
        "id": "YWxP8CWiPQXm",
        "outputId": "bd346c59-3a68-4c89-ac0f-0a9d1995e243",
        "colab": {
          "base_uri": "https://localhost:8080/",
          "height": 34
        }
      },
      "source": [
        "ar_stopwords = '''\n",
        "أنفسنا مثل حيث ذلك بشكل لدى ألا عن إلي ب لنا وقالت فقط الذي الذى ا هذا غير أكثر اي أنا أنت ايضا اذا كيف وكل أو اكثر أي أن منه وكان وفي تلك إن سوف حين نفسها هكذا قبل حول منذ هنا عندما على ضمن لكن فيه عليه قليل صباحا لهم بان يكون بأن أما هناك مع فوق بسبب ما لا هذه و فيها ف ولم ل آخر ثانية انه من الان جدا به بن بعض حاليا بها هم أ كانت هي لها نحن تم أنفسهم ينبغي إلى فان وقد تحت' عند وجود الى فأن الي او قد خارج إنه اى مرة هؤلاء أنها إذا فهي فهى كل يمكن جميع أنفسكم فعل كان ثم لي الآن وقال فى في ديك لم لن له تكون الذين ليس التى التي أنه وان بعد حتى ان دون وأن لماذا يجري كلا إنها لك ضد وإن فهو انها منها أى لديه ولا بين خلال وما اما عليها بعيدا كما نفسي نحو هو نفسك نفسه انت ولن إضافي لقاء وكانت هى فما أيضا إلا معظم ومن إما الا بينما وهي وهو وهى\n",
        "'''\n",
        "\n",
        "ar_stopwords=nltk.word_tokenize(ar_stopwords)\n",
        "print(\"length of stopwords is: \",len(ar_stopwords))\n"
      ],
      "execution_count": null,
      "outputs": [
        {
          "output_type": "stream",
          "text": [
            "length of stopwords is:  179\n"
          ],
          "name": "stdout"
        }
      ]
    },
    {
      "cell_type": "code",
      "metadata": {
        "id": "wf2a4Mge_UM9"
      },
      "source": [
        "pd.set_option('display.max_colwidth', None)"
      ],
      "execution_count": null,
      "outputs": []
    },
    {
      "cell_type": "code",
      "metadata": {
        "id": "78jg3Hgi_g2i"
      },
      "source": [
        "def process_text(text):\n",
        "    stemmer = nltk.ISRIStemmer()\n",
        "    word_list = nltk.word_tokenize(text)\n",
        "    #remove arabic stopwords\n",
        "    word_list = [ w for w in word_list if not w in ar_stopwords ]\n",
        "    #remove digits\n",
        "    word_list = [ w for w in word_list if not w.isdigit() ]\n",
        "    #stemming\n",
        "    word_list = [stemmer.stem(w) for w in  word_list]\n",
        "    return ' '.join(word_list) \n",
        "\n",
        "\n",
        "def clean_text(text):  \n",
        "\n",
        "    search = [\"أ\",\"إ\",\"آ\",\"ة\",\"_\",\"-\",\"/\",\".\",\"،\",\" و \",\" يا \",'\"',\"ـ\",\"'\",\"ى\",\n",
        "              \"\\\\\",'\\n', '\\t','&quot;','?','؟','!']\n",
        "    replace = [\"ا\",\"ا\",\"ا\",\"ه\",\" \",\" \",\"\",\"\",\"\",\" و\",\" يا\",\n",
        "               \"\",\"\",\"\",\"ي\",\"\",' ', ' ',' ',' ? ',' ؟ ', ' ! ']\n",
        "    #remove tashkeel\n",
        "    tashkeel = re.compile(r'[\\u0617-\\u061A\\u064B-\\u0652]')\n",
        "    text = re.sub(tashkeel,\"\", text)\n",
        "  \n",
        "    longation = re.compile(r'(.)\\1+')\n",
        "    subst = r\"\\1\\1\"\n",
        "    text = re.sub(longation, subst, text)\n",
        "    \n",
        "    text = re.sub(r\"[^\\w\\s]\", '', text)\n",
        "    #remove english words\n",
        "    text = re.sub(r\"[a-zA-Z]\", '', text)\n",
        "    #remove spaces\n",
        "    text = re.sub(r\"\\d+\", ' ', text)\n",
        "    text = re.sub(r\"\\n+\", ' ', text)\n",
        "    text = re.sub(r\"\\t+\", ' ', text)\n",
        "    text = re.sub(r\"\\r+\", ' ', text)\n",
        "    text = re.sub(r\"\\s+\", ' ', text)\n",
        "    #remove repetetions\n",
        "    text = text.replace('وو', 'و')\n",
        "    text = text.replace('يي', 'ي')\n",
        "    text = text.replace('اا', 'ا')\n",
        "    \n",
        "    for i in range(0, len(search)):\n",
        "        text = text.replace(search[i], replace[i])\n",
        "    \n",
        "    text = text.strip()\n",
        "    \n",
        "    return process_text(text) \n"
      ],
      "execution_count": null,
      "outputs": []
    },
    {
      "cell_type": "code",
      "metadata": {
        "id": "aX3eSJ4j_pXd",
        "outputId": "ccfbb4a5-ace0-465c-eaf4-7ee3a6fdcce4",
        "colab": {
          "base_uri": "https://localhost:8080/",
          "height": 197
        }
      },
      "source": [
        "data = pd.read_csv('DATA_SET_CP.csv')\n",
        "data.columns = ['text','sentiment']\n",
        "# exclude nutral sentiments\n",
        "data = data[data.sentiment.isin([-1, 1])]\n",
        "data.head()"
      ],
      "execution_count": null,
      "outputs": [
        {
          "output_type": "execute_result",
          "data": {
            "text/html": [
              "<div>\n",
              "<style scoped>\n",
              "    .dataframe tbody tr th:only-of-type {\n",
              "        vertical-align: middle;\n",
              "    }\n",
              "\n",
              "    .dataframe tbody tr th {\n",
              "        vertical-align: top;\n",
              "    }\n",
              "\n",
              "    .dataframe thead th {\n",
              "        text-align: right;\n",
              "    }\n",
              "</style>\n",
              "<table border=\"1\" class=\"dataframe\">\n",
              "  <thead>\n",
              "    <tr style=\"text-align: right;\">\n",
              "      <th></th>\n",
              "      <th>text</th>\n",
              "      <th>sentiment</th>\n",
              "    </tr>\n",
              "  </thead>\n",
              "  <tbody>\n",
              "    <tr>\n",
              "      <th>0</th>\n",
              "      <td>عملي</td>\n",
              "      <td>1</td>\n",
              "    </tr>\n",
              "    <tr>\n",
              "      <th>2</th>\n",
              "      <td>اشتريت السلعه ودفعت ثمنها من الماستر كارد وتم ابلاغي انه تم ارجاعها ولا اعلم السبب</td>\n",
              "      <td>-1</td>\n",
              "    </tr>\n",
              "    <tr>\n",
              "      <th>3</th>\n",
              "      <td>شنطة جميلة وأنيقة وسعرها مناسب جدا</td>\n",
              "      <td>-1</td>\n",
              "    </tr>\n",
              "    <tr>\n",
              "      <th>4</th>\n",
              "      <td>حلوه</td>\n",
              "      <td>1</td>\n",
              "    </tr>\n",
              "    <tr>\n",
              "      <th>5</th>\n",
              "      <td>هذا السرير (أو المحجر كما يسمى) ممتاز ... نوم ولعب بأمان خاصة للأطفال الرضع أقل من 3 سنوات.</td>\n",
              "      <td>1</td>\n",
              "    </tr>\n",
              "  </tbody>\n",
              "</table>\n",
              "</div>"
            ],
            "text/plain": [
              "                                                                                          text  sentiment\n",
              "0                                                                                         عملي          1\n",
              "2           اشتريت السلعه ودفعت ثمنها من الماستر كارد وتم ابلاغي انه تم ارجاعها ولا اعلم السبب         -1\n",
              "3                                                           شنطة جميلة وأنيقة وسعرها مناسب جدا         -1\n",
              "4                                                                                         حلوه          1\n",
              "5  هذا السرير (أو المحجر كما يسمى) ممتاز ... نوم ولعب بأمان خاصة للأطفال الرضع أقل من 3 سنوات.          1"
            ]
          },
          "metadata": {
            "tags": []
          },
          "execution_count": 55
        }
      ]
    },
    {
      "cell_type": "code",
      "metadata": {
        "id": "x5yW_169ETsf",
        "outputId": "e93fd8ec-e40f-4d99-d0ed-34bb6829967b",
        "colab": {
          "base_uri": "https://localhost:8080/",
          "height": 363
        }
      },
      "source": [
        "data['cleaned_text'] = data.text.apply(clean_text)\n",
        "data = data[data.cleaned_text != \"\"]\n",
        "data.head(10)"
      ],
      "execution_count": null,
      "outputs": [
        {
          "output_type": "execute_result",
          "data": {
            "text/html": [
              "<div>\n",
              "<style scoped>\n",
              "    .dataframe tbody tr th:only-of-type {\n",
              "        vertical-align: middle;\n",
              "    }\n",
              "\n",
              "    .dataframe tbody tr th {\n",
              "        vertical-align: top;\n",
              "    }\n",
              "\n",
              "    .dataframe thead th {\n",
              "        text-align: right;\n",
              "    }\n",
              "</style>\n",
              "<table border=\"1\" class=\"dataframe\">\n",
              "  <thead>\n",
              "    <tr style=\"text-align: right;\">\n",
              "      <th></th>\n",
              "      <th>text</th>\n",
              "      <th>sentiment</th>\n",
              "      <th>cleaned_text</th>\n",
              "    </tr>\n",
              "  </thead>\n",
              "  <tbody>\n",
              "    <tr>\n",
              "      <th>0</th>\n",
              "      <td>عملي</td>\n",
              "      <td>1</td>\n",
              "      <td>عمل</td>\n",
              "    </tr>\n",
              "    <tr>\n",
              "      <th>2</th>\n",
              "      <td>اشتريت السلعه ودفعت ثمنها من الماستر كارد وتم ابلاغي انه تم ارجاعها ولا اعلم السبب</td>\n",
              "      <td>-1</td>\n",
              "      <td>شري سلع دفع ثمن استر كرد وتم بلغ رجع علم سبب</td>\n",
              "    </tr>\n",
              "    <tr>\n",
              "      <th>3</th>\n",
              "      <td>شنطة جميلة وأنيقة وسعرها مناسب جدا</td>\n",
              "      <td>-1</td>\n",
              "      <td>شنط جمل انق سعر نسب</td>\n",
              "    </tr>\n",
              "    <tr>\n",
              "      <th>4</th>\n",
              "      <td>حلوه</td>\n",
              "      <td>1</td>\n",
              "      <td>حله</td>\n",
              "    </tr>\n",
              "    <tr>\n",
              "      <th>5</th>\n",
              "      <td>هذا السرير (أو المحجر كما يسمى) ممتاز ... نوم ولعب بأمان خاصة للأطفال الرضع أقل من 3 سنوات.</td>\n",
              "      <td>1</td>\n",
              "      <td>سرر حجر يسم متز نوم لعب بام خصه طفل رضع اقل سنو</td>\n",
              "    </tr>\n",
              "    <tr>\n",
              "      <th>6</th>\n",
              "      <td>مفيده</td>\n",
              "      <td>1</td>\n",
              "      <td>فيد</td>\n",
              "    </tr>\n",
              "    <tr>\n",
              "      <th>7</th>\n",
              "      <td>مرااا حلوة احلى شيء انها تجمع اكتر من شيء بمكان واحد يعني اغتنام مساحهة ومنظمة ومرتبة وكل شي قريب من البيبي .. واجهت صعوبة بس في فتح السرير .. والطريقة كانت واضحة باليوتيوب اكتبو طريقة تركيب سرير الاطفال</td>\n",
              "      <td>1</td>\n",
              "      <td>مرا حله احل شيء جمع كتر شيء بمك وحد يعن غنم سحه نظم رتب شي قرب بيب وجه صعب بس فتح سرر طرق وضح تيب كبو طرق ركب سرر طفل</td>\n",
              "    </tr>\n",
              "    <tr>\n",
              "      <th>8</th>\n",
              "      <td>هذه السلعه ممتازة جدا وفريدة من نوعها</td>\n",
              "      <td>1</td>\n",
              "      <td>سلع متز فرد نوع</td>\n",
              "    </tr>\n",
              "    <tr>\n",
              "      <th>10</th>\n",
              "      <td>تم توصيل السلعة الى المنزل بحالة ممتازه في وقت قصير وهي اداة مفيدة جدا لإراحة الأهل من تفقد الأطفال كل فترة</td>\n",
              "      <td>1</td>\n",
              "      <td>وصل سلع نزل بحل متز وقت قصر اده فيد ارح اهل فقد طفل فتر</td>\n",
              "    </tr>\n",
              "    <tr>\n",
              "      <th>11</th>\n",
              "      <td>منتج رائع جداً وانصح فيه</td>\n",
              "      <td>1</td>\n",
              "      <td>نتج رئع نصح</td>\n",
              "    </tr>\n",
              "  </tbody>\n",
              "</table>\n",
              "</div>"
            ],
            "text/plain": [
              "                                                                                                                                                                                                           text  ...                                                                                                           cleaned_text\n",
              "0                                                                                                                                                                                                          عملي  ...                                                                                                                    عمل\n",
              "2                                                                                                                            اشتريت السلعه ودفعت ثمنها من الماستر كارد وتم ابلاغي انه تم ارجاعها ولا اعلم السبب  ...                                                                           شري سلع دفع ثمن استر كرد وتم بلغ رجع علم سبب\n",
              "3                                                                                                                                                                            شنطة جميلة وأنيقة وسعرها مناسب جدا  ...                                                                                                    شنط جمل انق سعر نسب\n",
              "4                                                                                                                                                                                                          حلوه  ...                                                                                                                    حله\n",
              "5                                                                                                                   هذا السرير (أو المحجر كما يسمى) ممتاز ... نوم ولعب بأمان خاصة للأطفال الرضع أقل من 3 سنوات.  ...                                                                        سرر حجر يسم متز نوم لعب بام خصه طفل رضع اقل سنو\n",
              "6                                                                                                                                                                                                         مفيده  ...                                                                                                                    فيد\n",
              "7   مرااا حلوة احلى شيء انها تجمع اكتر من شيء بمكان واحد يعني اغتنام مساحهة ومنظمة ومرتبة وكل شي قريب من البيبي .. واجهت صعوبة بس في فتح السرير .. والطريقة كانت واضحة باليوتيوب اكتبو طريقة تركيب سرير الاطفال  ...  مرا حله احل شيء جمع كتر شيء بمك وحد يعن غنم سحه نظم رتب شي قرب بيب وجه صعب بس فتح سرر طرق وضح تيب كبو طرق ركب سرر طفل\n",
              "8                                                                                                                                                                         هذه السلعه ممتازة جدا وفريدة من نوعها  ...                                                                                                        سلع متز فرد نوع\n",
              "10                                                                                                  تم توصيل السلعة الى المنزل بحالة ممتازه في وقت قصير وهي اداة مفيدة جدا لإراحة الأهل من تفقد الأطفال كل فترة  ...                                                                وصل سلع نزل بحل متز وقت قصر اده فيد ارح اهل فقد طفل فتر\n",
              "11                                                                                                                                                                                     منتج رائع جداً وانصح فيه  ...                                                                                                            نتج رئع نصح\n",
              "\n",
              "[10 rows x 3 columns]"
            ]
          },
          "metadata": {
            "tags": []
          },
          "execution_count": 56
        }
      ]
    },
    {
      "cell_type": "code",
      "metadata": {
        "id": "w02VG47cEyoy",
        "outputId": "c188a2fb-bc96-43ef-ae63-d2626b55b029",
        "colab": {
          "base_uri": "https://localhost:8080/",
          "height": 409
        }
      },
      "source": [
        "min_sample = data.groupby(['sentiment']).count().text.min()\n",
        "input_data = pd.concat([data[data.sentiment == 1].head(min_sample), \n",
        "                        data[data.sentiment == -1].head(min_sample)])\n",
        "\n",
        "sns.set_style('darkgrid')\n",
        "plt.figure(figsize=(4, 5))\n",
        "sns.countplot(data['sentiment'], palette=['red', 'green'])\n",
        "plt.title('Number of messeges in with each sentiment')\n",
        "plt.xlabel(\"Negative(-1): Positive(1)\")\n",
        "plt.show()"
      ],
      "execution_count": null,
      "outputs": [
        {
          "output_type": "stream",
          "text": [
            "/usr/local/lib/python3.6/dist-packages/seaborn/_decorators.py:43: FutureWarning: Pass the following variable as a keyword arg: x. From version 0.12, the only valid positional argument will be `data`, and passing other arguments without an explicit keyword will result in an error or misinterpretation.\n",
            "  FutureWarning\n"
          ],
          "name": "stderr"
        },
        {
          "output_type": "display_data",
          "data": {
            "image/png": "[encoded data removed]",
            "text/plain": [
              "<Figure size 288x360 with 1 Axes>"
            ]
          },
          "metadata": {
            "tags": []
          }
        }
      ]
    },
    {
      "cell_type": "code",
      "metadata": {
        "id": "TZx0elLlFWPX"
      },
      "source": [
        "X = input_data.cleaned_text.values #training paramter\n",
        "Y = np.asarray(input_data.sentiment.values).astype('float32') #prediction paramter\n",
        "Y = Y.clip(0, 1)"
      ],
      "execution_count": null,
      "outputs": []
    },
    {
      "cell_type": "code",
      "metadata": {
        "id": "LV0tHG4dGDw_",
        "outputId": "8f267831-9b6a-4ea3-b64c-a256b82f0657",
        "colab": {
          "base_uri": "https://localhost:8080/",
          "height": 34
        }
      },
      "source": [
        "tokenizer = Tokenizer(num_words=20000)\n",
        "tokenizer.fit_on_texts(X)\n",
        "X = tokenizer.texts_to_sequences(X)\n",
        "print(\"vocab size:\",len(tokenizer.word_index))\n",
        "X = pad_sequences(X, padding='post', maxlen=300)"
      ],
      "execution_count": null,
      "outputs": [
        {
          "output_type": "stream",
          "text": [
            "vocab size: 13286\n"
          ],
          "name": "stdout"
        }
      ]
    },
    {
      "cell_type": "code",
      "metadata": {
        "id": "pLIElrWnHeKX",
        "outputId": "25b4e405-ebbc-41c4-b632-986862befe47",
        "colab": {
          "base_uri": "https://localhost:8080/",
          "height": 51
        }
      },
      "source": [
        "X_train, X_test, label_train, label_test = train_test_split(X, Y, test_size=0.3, random_state=42)\n",
        "print(\"Training:\", len(X_train))\n",
        "print(\"Testing: \", len(X_test))"
      ],
      "execution_count": null,
      "outputs": [
        {
          "output_type": "stream",
          "text": [
            "Training: 8328\n",
            "Testing:  3570\n"
          ],
          "name": "stdout"
        }
      ]
    },
    {
      "cell_type": "code",
      "metadata": {
        "id": "83lHsHqoHeME",
        "outputId": "c6dd81b0-e39f-4690-ec18-77fd57c99fe5",
        "colab": {
          "base_uri": "https://localhost:8080/",
          "height": 494
        }
      },
      "source": [
        "#create LSTM model with keras\n",
        "embedding_dim = 100\n",
        "dropout = 0.5\n",
        "opt = 'adam'\n",
        "clear_session()\n",
        "model = Sequential()\n",
        "model.add(layers.Embedding(input_dim=20000, \n",
        "                           output_dim=100, \n",
        "                           input_length=300))\n",
        "model.add(layers.Bidirectional(layers.LSTM(100, dropout=0.5, \n",
        "                                           recurrent_dropout=0.5, \n",
        "                                           return_sequences=True)))\n",
        "model.add(layers.GlobalMaxPool1D())\n",
        "model.add(layers.Dense(128, activation='relu'))\n",
        "model.add(layers.Dropout(dropout))\n",
        "model.add(layers.Dense(64, activation='relu'))\n",
        "model.add(layers.Dropout(dropout))\n",
        "model.add(layers.Dense(32, activation='relu'))\n",
        "model.add(layers.Dropout(dropout))\n",
        "model.add(layers.Dense(1, activation='sigmoid'))\n",
        "\n",
        "model.compile(optimizer=opt, \n",
        "              loss='binary_crossentropy', \n",
        "              metrics=['accuracy'])\n",
        "model.summary()"
      ],
      "execution_count": null,
      "outputs": [
        {
          "output_type": "stream",
          "text": [
            "Model: \"sequential\"\n",
            "_________________________________________________________________\n",
            "Layer (type)                 Output Shape              Param #   \n",
            "=================================================================\n",
            "embedding (Embedding)        (None, 300, 100)          2000000   \n",
            "_________________________________________________________________\n",
            "bidirectional (Bidirectional (None, 300, 200)          160800    \n",
            "_________________________________________________________________\n",
            "global_max_pooling1d (Global (None, 200)               0         \n",
            "_________________________________________________________________\n",
            "dense (Dense)                (None, 128)               25728     \n",
            "_________________________________________________________________\n",
            "dropout (Dropout)            (None, 128)               0         \n",
            "_________________________________________________________________\n",
            "dense_1 (Dense)              (None, 64)                8256      \n",
            "_________________________________________________________________\n",
            "dropout_1 (Dropout)          (None, 64)                0         \n",
            "_________________________________________________________________\n",
            "dense_2 (Dense)              (None, 32)                2080      \n",
            "_________________________________________________________________\n",
            "dropout_2 (Dropout)          (None, 32)                0         \n",
            "_________________________________________________________________\n",
            "dense_3 (Dense)              (None, 1)                 33        \n",
            "=================================================================\n",
            "Total params: 2,196,897\n",
            "Trainable params: 2,196,897\n",
            "Non-trainable params: 0\n",
            "_________________________________________________________________\n"
          ],
          "name": "stdout"
        }
      ]
    },
    {
      "cell_type": "code",
      "metadata": {
        "id": "pu9ljSuVI3Kv",
        "outputId": "da610c15-5859-429c-e5eb-4532891f099b",
        "colab": {
          "base_uri": "https://localhost:8080/",
          "height": 221
        }
      },
      "source": [
        "history = model.fit(X_train, label_train,\n",
        "                    epochs=4,\n",
        "                    verbose=True,\n",
        "                    validation_data=(X_test, label_test),\n",
        "                    batch_size=64)\n",
        "loss, accuracy = model.evaluate(X_train, label_train, verbose=True)\n",
        "print(\"Training Accuracy: {:.4f}\".format(accuracy))\n",
        "loss_val, accuracy_val = model.evaluate(X_test, label_test, verbose=True)\n",
        "print(\"Testing Accuracy:  {:.4f}\".format(accuracy_val))"
      ],
      "execution_count": null,
      "outputs": [
        {
          "output_type": "stream",
          "text": [
            "Epoch 1/4\n",
            "131/131 [==============================] - 231s 2s/step - loss: 0.7016 - accuracy: 0.5328 - val_loss: 0.5637 - val_accuracy: 0.6798\n",
            "Epoch 2/4\n",
            "131/131 [==============================] - 233s 2s/step - loss: 0.3940 - accuracy: 0.8499 - val_loss: 0.2602 - val_accuracy: 0.8947\n",
            "Epoch 3/4\n",
            "131/131 [==============================] - 229s 2s/step - loss: 0.2198 - accuracy: 0.9293 - val_loss: 0.2300 - val_accuracy: 0.9104\n",
            "Epoch 4/4\n",
            "131/131 [==============================] - 229s 2s/step - loss: 0.1526 - accuracy: 0.9553 - val_loss: 0.2642 - val_accuracy: 0.9036\n",
            "261/261 [==============================] - 41s 156ms/step - loss: 0.0977 - accuracy: 0.9655\n",
            "Training Accuracy: 0.9655\n",
            "112/112 [==============================] - 17s 156ms/step - loss: 0.2642 - accuracy: 0.9036\n",
            "Testing Accuracy:  0.9036\n"
          ],
          "name": "stdout"
        }
      ]
    },
    {
      "cell_type": "code",
      "metadata": {
        "id": "eKNmUoriyrT8"
      },
      "source": [
        "def plot_history(history):\n",
        "    accuracy = history.history['accuracy']\n",
        "    val_accuracy = history.history['val_accuracy']\n",
        "    loss = history.history['loss']\n",
        "    val_loss = history.history['val_loss']\n",
        "    \n",
        "    epochs = range(1,len(accuracy) + 1)\n",
        "    \n",
        "    # Plot accuracy  \n",
        "    plt.figure(1)\n",
        "    plt.plot(epochs, accuracy, 'b', label='Training accuracy')\n",
        "    plt.plot(epochs, val_accuracy, 'g', label='Validation accuracy')\n",
        "    plt.title('Training and validation accuracy')\n",
        "    plt.xlabel('Epochs')\n",
        "    plt.ylabel('Accuracy')\n",
        "    plt.legend()\n",
        "    \n",
        "    # Plot loss\n",
        "    plt.figure(2)\n",
        "    plt.plot(epochs, loss, 'b', label='Training loss')\n",
        "    plt.plot(epochs, val_loss, 'g', label='Validation loss')\n",
        "    plt.title('Training and validation loss')\n",
        "    plt.xlabel('Epochs')\n",
        "    plt.ylabel('Loss')\n",
        "    plt.legend()\n",
        "    plt.show()\n"
      ],
      "execution_count": null,
      "outputs": []
    },
    {
      "cell_type": "code",
      "metadata": {
        "id": "Dyfzyef08yRh",
        "outputId": "a037b81c-4088-42dc-b235-f63b4047efd3",
        "colab": {
          "base_uri": "https://localhost:8080/",
          "height": 584
        }
      },
      "source": [
        "plot_history(history)"
      ],
      "execution_count": null,
      "outputs": [
        {
          "output_type": "display_data",
          "data": {
            "image/png": "[encoded data removed]",
            "text/plain": [
              "<Figure size 432x288 with 1 Axes>"
            ]
          },
          "metadata": {
            "tags": []
          }
        },
        {
          "output_type": "display_data",
          "data": {
            "image/png": "[encoded data removed]",
            "text/plain": [
              "<Figure size 432x288 with 1 Axes>"
            ]
          },
          "metadata": {
            "tags": []
          }
        }
      ]
    },
    {
      "cell_type": "code",
      "metadata": {
        "id": "AZ07lwVCtYGl"
      },
      "source": [
        "#save model\n",
        "model.save('model.h5')"
      ],
      "execution_count": null,
      "outputs": []
    },
    {
      "cell_type": "code",
      "metadata": {
        "id": "BW9uaWZlZfgB",
        "outputId": "d71ab632-9859-4c51-b76b-9ae7dc6eee02",
        "colab": {
          "base_uri": "https://localhost:8080/",
          "height": 34
        }
      },
      "source": [
        "def feedback_learing(text,correct_pred):\n",
        "  X=clean_text(text)\n",
        "  tokenizer.fit_on_texts(X)\n",
        "  X = tokenizer.texts_to_sequences(X)\n",
        "  X = pad_sequences(X, padding='post', maxlen=300)\n",
        "  Y = np.asarray(correct_pred).astype('float32').reshape((-1,1))\n",
        "  print(model.train_on_batch(X,Y))\n",
        "  model.save('model.h5')\n"
      ],
      "execution_count": null,
      "outputs": [
        {
          "output_type": "stream",
          "text": [
            "[0.26442912220954895, 0.9006973505020142]\n"
          ],
          "name": "stdout"
        }
      ]
    },
    {
      "cell_type": "code",
      "metadata": {
        "id": "rbi6l6GmN74w"
      },
      "source": [
        "def predict_sentiment(input):\n",
        "  input=clean_text(input)\n",
        "  model_input=tokenizer.texts_to_sequences(input)\n",
        "  model_input=pad_sequences(model_input, padding='post', maxlen=300)\n",
        "  pred = model.predict(model_input, verbose=True)\n",
        "  pred=pred.reshape(pred.shape[0],)[0]\n",
        "  if(pred>0.5): return \"Satisfied\",pred\n",
        "  return \"Unsatisfied\",pred\n",
        " "
      ],
      "execution_count": null,
      "outputs": []
    },
    {
      "cell_type": "code",
      "metadata": {
        "id": "GLpQ_-hnSRBW",
        "outputId": "166c751f-0a01-40e7-9288-a401cb6a710d",
        "colab": {
          "base_uri": "https://localhost:8080/"
        }
      },
      "source": [
        "if __name__ == \"__main__\":\n",
        "  while(True):\n",
        "    user_messege=input(\"Hi, please enter a message to test model prediction: \")\n",
        "    pred,score=predict_sentiment(user_messege)\n",
        "    print(pred,'\\n',\"score: \",score)\n",
        "    feedback=input(\"Was it the correct prediction? [Y/N]\")\n",
        "    if(feedback=='N'):\n",
        "      if(pred==\"Satisfied\"): feedback_learing(user_messege,0) \n",
        "      else:  feedback_learing(user_messege,1)"
      ],
      "execution_count": null,
      "outputs": [
        {
          "output_type": "stream",
          "text": [
            "7/7 [==============================] - 1s 126ms/step\n",
            "Unsatisfied \n",
            " score:  0.40435666\n",
            "1/1 [==============================] - 0s 2ms/step\n",
            "Unsatisfied \n",
            " score:  0.4669529\n",
            "1/1 [==============================] - 0s 2ms/step\n",
            "Unsatisfied \n",
            " score:  0.40435666\n",
            "1/1 [==============================] - 0s 1ms/step\n",
            "Satisfied \n",
            " score:  0.5999802\n",
            "1/1 [==============================] - 0s 2ms/step\n",
            "Satisfied \n",
            " score:  0.64582694\n",
            "2/2 [==============================] - 0s 46ms/step\n",
            "Satisfied \n",
            " score:  0.5999802\n",
            "1/1 [==============================] - 0s 1ms/step\n",
            "Satisfied \n",
            " score:  0.5342141\n",
            "[0.6682041883468628, 0.6363636255264282]\n",
            "1/1 [==============================] - 0s 2ms/step\n",
            "Unsatisfied \n",
            " score:  0.47690475\n"
          ],
          "name": "stdout"
        }
      ]
    }
  ]
}